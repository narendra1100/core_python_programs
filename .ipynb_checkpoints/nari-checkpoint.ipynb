{
 "cells": [
  {
   "cell_type": "code",
   "execution_count": 25,
   "metadata": {},
   "outputs": [],
   "source": [
    "#lists\n",
    "a=[4,53,3,4,3,54]\n",
    "a.append(3) #it appends the value(3) to list a\n",
    "a.pop()#it removes the value at last index\n",
    "a.remove(4)#it removes the value 4 \n",
    "a.extend([5,3,2])# it add's the multiple values into a\n",
    "a.index(53) # it returns the index value of 53 \n",
    "#a.clear()# it clear the all values in alist\n",
    "a.sort()# it can sort the all value in the list\n",
    "a.sort(reverse=True)#it re"
   ]
  },
  {
   "cell_type": "code",
   "execution_count": 26,
   "metadata": {},
   "outputs": [],
   "source": [
    "del(a[:3])#it deletes th first 3 index positions\n",
    "c=a.copy()# it copys list a into c "
   ]
  },
  {
   "cell_type": "code",
   "execution_count": 27,
   "metadata": {},
   "outputs": [
    {
     "data": {
      "text/plain": [
       "4"
      ]
     },
     "execution_count": 27,
     "metadata": {},
     "output_type": "execute_result"
    }
   ],
   "source": [
    "# tuple\n",
    "b=(4,3,54,3,2)\n",
    "b.count(3)# it returns howmany time 3 value inside the tuple\n",
    "b.index(2)#it shows the index position of the value 2"
   ]
  },
  {
   "cell_type": "code",
   "execution_count": 28,
   "metadata": {},
   "outputs": [],
   "source": [
    "#set\n",
    "a={4,3,5,4,33,6,21,9}\n",
    "b={21,1,3,6,43,23,11,35}\n",
    "a.add(45)#45 can add into set a\n",
    "a.pop()#it removes the random value in the a set\n",
    "a.update({9,6,42,232})# it add multiple values into a list\n",
    "a.union(b)# it shows  in both set what values are same (we can write:a|b)\n",
    "a.intersection(b)# its reciprocal of union(we can write: a&b)\n",
    "a.difference(b)# it shows what values a does not have in b ( we can write : a-b)\n",
    "a.symmetric_difference(b) # it shows the what values difference between a and b (we can write :a^b)\n",
    "a.isdisjoint(b)# it shows true or false (determins whether or not two sets have any elements in common)\n",
    "a.issubset(b)#whether one set is subset of the others(we can write :a<=b)\n",
    "a.issuperset(b)#it is reciprocal of the subset\n",
    "a.intersection_update(b)# it updates the intersection of the values into b\n",
    "a.difference_update(b)#it updates the difference values in a\n",
    "a.symmetric_difference_update(b)# it updates what values difference between a and b\n",
    "a.discard(23)#it delete the value if that value in side the set\n"
   ]
  },
  {
   "cell_type": "code",
   "execution_count": 29,
   "metadata": {},
   "outputs": [],
   "source": [
    "#dictionary\n",
    "a={\"hari\":[4,3,53],\"giri\":\"9485949494\",\"nani\":\"friend\"}\n",
    "a.update({\"arif\":232})"
   ]
  },
  {
   "cell_type": "code",
   "execution_count": 30,
   "metadata": {},
   "outputs": [
    {
     "data": {
      "text/plain": [
       "'friend'"
      ]
     },
     "execution_count": 30,
     "metadata": {},
     "output_type": "execute_result"
    }
   ],
   "source": [
    "a.get(\"nani\",4)"
   ]
  },
  {
   "cell_type": "code",
   "execution_count": 31,
   "metadata": {},
   "outputs": [
    {
     "data": {
      "text/plain": [
       "dict_keys(['hari', 'giri', 'nani', 'arif'])"
      ]
     },
     "execution_count": 31,
     "metadata": {},
     "output_type": "execute_result"
    }
   ],
   "source": [
    "a.keys()"
   ]
  },
  {
   "cell_type": "code",
   "execution_count": 32,
   "metadata": {},
   "outputs": [
    {
     "data": {
      "text/plain": [
       "dict_values([[4, 3, 53], '9485949494', 'friend', 232])"
      ]
     },
     "execution_count": 32,
     "metadata": {},
     "output_type": "execute_result"
    }
   ],
   "source": [
    "a.values()"
   ]
  },
  {
   "cell_type": "code",
   "execution_count": 33,
   "metadata": {},
   "outputs": [
    {
     "data": {
      "text/plain": [
       "dict_items([('hari', [4, 3, 53]), ('giri', '9485949494'), ('nani', 'friend'), ('arif', 232)])"
      ]
     },
     "execution_count": 33,
     "metadata": {},
     "output_type": "execute_result"
    }
   ],
   "source": [
    "a.items()"
   ]
  },
  {
   "cell_type": "code",
   "execution_count": 34,
   "metadata": {},
   "outputs": [
    {
     "data": {
      "text/plain": [
       "[3, 43]"
      ]
     },
     "execution_count": 34,
     "metadata": {},
     "output_type": "execute_result"
    }
   ],
   "source": [
    "a.setdefault(\"ari\",[3,43])"
   ]
  },
  {
   "cell_type": "code",
   "execution_count": 35,
   "metadata": {},
   "outputs": [],
   "source": [
    "#a.pop(\"nari\")"
   ]
  },
  {
   "cell_type": "code",
   "execution_count": 36,
   "metadata": {},
   "outputs": [
    {
     "data": {
      "text/plain": [
       "{'hari': [4, 3, 53],\n",
       " 'giri': '9485949494',\n",
       " 'nani': 'friend',\n",
       " 'arif': 232,\n",
       " 'ari': [3, 43]}"
      ]
     },
     "execution_count": 36,
     "metadata": {},
     "output_type": "execute_result"
    }
   ],
   "source": [
    "a"
   ]
  },
  {
   "cell_type": "code",
   "execution_count": 37,
   "metadata": {},
   "outputs": [
    {
     "data": {
      "text/plain": [
       "('ari', [3, 43])"
      ]
     },
     "execution_count": 37,
     "metadata": {},
     "output_type": "execute_result"
    }
   ],
   "source": [
    "a.popitem()"
   ]
  },
  {
   "cell_type": "code",
   "execution_count": 38,
   "metadata": {},
   "outputs": [
    {
     "data": {
      "text/plain": [
       "{'hari': [4, 3, 53], 'giri': '9485949494', 'nani': 'friend', 'arif': 232}"
      ]
     },
     "execution_count": 38,
     "metadata": {},
     "output_type": "execute_result"
    }
   ],
   "source": [
    "a"
   ]
  },
  {
   "cell_type": "code",
   "execution_count": 39,
   "metadata": {},
   "outputs": [
    {
     "data": {
      "text/plain": [
       "{'n': 43, 'a': 43, 'r': 43, 'i': 43}"
      ]
     },
     "execution_count": 39,
     "metadata": {},
     "output_type": "execute_result"
    }
   ],
   "source": [
    "a.fromkeys(\"nari\",43)"
   ]
  },
  {
   "cell_type": "code",
   "execution_count": 40,
   "metadata": {},
   "outputs": [
    {
     "data": {
      "text/plain": [
       "{'hari': [4, 3, 53], 'giri': '9485949494', 'nani': 'friend', 'arif': 232}"
      ]
     },
     "execution_count": 40,
     "metadata": {},
     "output_type": "execute_result"
    }
   ],
   "source": [
    "a"
   ]
  },
  {
   "cell_type": "code",
   "execution_count": 41,
   "metadata": {},
   "outputs": [
    {
     "data": {
      "text/plain": [
       "frozenset({'a', 'i', 'n', 'r'})"
      ]
     },
     "execution_count": 41,
     "metadata": {},
     "output_type": "execute_result"
    }
   ],
   "source": [
    "frozenset(\"nari\")"
   ]
  },
  {
   "cell_type": "code",
   "execution_count": 42,
   "metadata": {},
   "outputs": [
    {
     "name": "stdout",
     "output_type": "stream",
     "text": [
      "hai\n"
     ]
    }
   ],
   "source": [
    "val=[3,43,4,3,4,2,4]\n",
    "if 3 in val:\n",
    "    print(\"hai\")\n",
    "else:\n",
    "    print(\"bye\")"
   ]
  },
  {
   "cell_type": "code",
   "execution_count": 43,
   "metadata": {},
   "outputs": [
    {
     "name": "stdout",
     "output_type": "stream",
     "text": [
      "2\n",
      "3\n",
      "3\n",
      "4\n",
      "4\n",
      "4\n",
      "43\n"
     ]
    }
   ],
   "source": [
    "for i in sorted(val):\n",
    "    print(i)"
   ]
  },
  {
   "cell_type": "code",
   "execution_count": 44,
   "metadata": {},
   "outputs": [
    {
     "name": "stdout",
     "output_type": "stream",
     "text": [
      "101 2\n",
      "102 3\n",
      "103 3\n",
      "104 4\n",
      "105 4\n",
      "106 4\n",
      "107 43\n",
      "thank you\n"
     ]
    }
   ],
   "source": [
    "for i,k in enumerate(sorted(val),101):\n",
    "    print(i,k)\n",
    "    \n",
    "else:\n",
    "    print(\"thank you\")"
   ]
  },
  {
   "cell_type": "code",
   "execution_count": 45,
   "metadata": {},
   "outputs": [
    {
     "name": "stdout",
     "output_type": "stream",
     "text": [
      "enter the number :\n"
     ]
    },
    {
     "ename": "ValueError",
     "evalue": "invalid literal for int() with base 10: ''",
     "output_type": "error",
     "traceback": [
      "\u001b[1;31m---------------------------------------------------------------------------\u001b[0m",
      "\u001b[1;31mValueError\u001b[0m                                Traceback (most recent call last)",
      "\u001b[1;32m<ipython-input-45-8fd6214db864>\u001b[0m in \u001b[0;36m<module>\u001b[1;34m\u001b[0m\n\u001b[0;32m      1\u001b[0m \u001b[1;31m#plaindrom number\u001b[0m\u001b[1;33m\u001b[0m\u001b[1;33m\u001b[0m\u001b[1;33m\u001b[0m\u001b[0m\n\u001b[1;32m----> 2\u001b[1;33m \u001b[0ma\u001b[0m\u001b[1;33m=\u001b[0m\u001b[0mint\u001b[0m\u001b[1;33m(\u001b[0m\u001b[0minput\u001b[0m\u001b[1;33m(\u001b[0m\u001b[1;34m\"enter the number :\"\u001b[0m\u001b[1;33m)\u001b[0m\u001b[1;33m)\u001b[0m\u001b[1;33m\u001b[0m\u001b[1;33m\u001b[0m\u001b[0m\n\u001b[0m\u001b[0;32m      3\u001b[0m \u001b[0ms\u001b[0m\u001b[1;33m=\u001b[0m\u001b[1;36m0\u001b[0m\u001b[1;33m\u001b[0m\u001b[1;33m\u001b[0m\u001b[0m\n\u001b[0;32m      4\u001b[0m \u001b[0mg\u001b[0m\u001b[1;33m=\u001b[0m\u001b[0ma\u001b[0m\u001b[1;33m\u001b[0m\u001b[1;33m\u001b[0m\u001b[0m\n\u001b[0;32m      5\u001b[0m \u001b[1;32mwhile\u001b[0m \u001b[0ma\u001b[0m\u001b[1;33m>=\u001b[0m\u001b[1;36m0\u001b[0m\u001b[1;33m:\u001b[0m\u001b[1;33m\u001b[0m\u001b[1;33m\u001b[0m\u001b[0m\n",
      "\u001b[1;31mValueError\u001b[0m: invalid literal for int() with base 10: ''"
     ]
    }
   ],
   "source": [
    "#plaindrom number\n",
    "a=int(input(\"enter the number :\"))\n",
    "s=0\n",
    "g=a\n",
    "while a>=0:\n",
    "    rem=a%10\n",
    "    s=s*10+rem\n",
    "    a//=10\n",
    "if g==s:\n",
    "    print(\"its an palindrom number\")\n",
    "else:\n",
    "    print(\"you number its not a palindrom number\")\n",
    "    "
   ]
  },
  {
   "cell_type": "code",
   "execution_count": null,
   "metadata": {},
   "outputs": [
    {
     "name": "stdout",
     "output_type": "stream",
     "text": [
      "enter the number :445\n"
     ]
    }
   ],
   "source": [
    "#armstrong number\n",
    "count=0\n",
    "a=int(input(\"enter the number :\"))\n",
    "u=a\n",
    "s=0\n",
    "t=a\n",
    "while a>=0:\n",
    "    count+=1\n",
    "    a//=10\n",
    "while u>=0:\n",
    "    rem=u%10\n",
    "    s=s+rem**count\n",
    "    u//=10\n",
    "if t==s:\n",
    "    print(\"its an armstrong number\")\n",
    "else:\n",
    "    print(\"its not an armstrong number\")"
   ]
  },
  {
   "cell_type": "code",
   "execution_count": null,
   "metadata": {},
   "outputs": [],
   "source": []
  }
 ],
 "metadata": {
  "kernelspec": {
   "display_name": "Python 3",
   "language": "python",
   "name": "python3"
  },
  "language_info": {
   "codemirror_mode": {
    "name": "ipython",
    "version": 3
   },
   "file_extension": ".py",
   "mimetype": "text/x-python",
   "name": "python",
   "nbconvert_exporter": "python",
   "pygments_lexer": "ipython3",
   "version": "3.8.3"
  }
 },
 "nbformat": 4,
 "nbformat_minor": 4
}
